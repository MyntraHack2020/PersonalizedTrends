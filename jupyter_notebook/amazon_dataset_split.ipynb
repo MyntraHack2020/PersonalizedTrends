{
 "cells": [
  {
   "cell_type": "code",
   "execution_count": 6,
   "metadata": {
    "colab": {},
    "colab_type": "code",
    "id": "W721-cP5b92O"
   },
   "outputs": [],
   "source": [
    "# path\n",
    "path = '../dataset/'"
   ]
  },
  {
   "cell_type": "markdown",
   "metadata": {
    "colab_type": "text",
    "id": "1HUU5bbbqjc5"
   },
   "source": [
    "# Load amazon dataset"
   ]
  },
  {
   "cell_type": "code",
   "execution_count": 3,
   "metadata": {
    "colab": {
     "base_uri": "https://localhost:8080/",
     "height": 193
    },
    "colab_type": "code",
    "executionInfo": {
     "elapsed": 18147,
     "status": "ok",
     "timestamp": 1554450092775,
     "user": {
      "displayName": "이광한",
      "photoUrl": "",
      "userId": "10881999082486233990"
     },
     "user_tz": -540
    },
    "id": "aDK7OR6np7rp",
    "outputId": "4f7e0fea-03c5-4509-db44-24a8afe87452"
   },
   "outputs": [
    {
     "data": {
      "text/html": [
       "<div>\n",
       "<style scoped>\n",
       "    .dataframe tbody tr th:only-of-type {\n",
       "        vertical-align: middle;\n",
       "    }\n",
       "\n",
       "    .dataframe tbody tr th {\n",
       "        vertical-align: top;\n",
       "    }\n",
       "\n",
       "    .dataframe thead th {\n",
       "        text-align: right;\n",
       "    }\n",
       "</style>\n",
       "<table border=\"1\" class=\"dataframe\">\n",
       "  <thead>\n",
       "    <tr style=\"text-align: right;\">\n",
       "      <th></th>\n",
       "      <th>reviewerID</th>\n",
       "      <th>asin</th>\n",
       "      <th>reviewerName</th>\n",
       "      <th>helpful</th>\n",
       "      <th>reviewText</th>\n",
       "      <th>overall</th>\n",
       "      <th>summary</th>\n",
       "      <th>unixReviewTime</th>\n",
       "      <th>reviewTime</th>\n",
       "    </tr>\n",
       "  </thead>\n",
       "  <tbody>\n",
       "    <tr>\n",
       "      <th>0</th>\n",
       "      <td>A1KLRMWW2FWPL4</td>\n",
       "      <td>0000031887</td>\n",
       "      <td>Amazon Customer \"cameramom\"</td>\n",
       "      <td>[0, 0]</td>\n",
       "      <td>This is a great tutu and at a really great pri...</td>\n",
       "      <td>5.0</td>\n",
       "      <td>Great tutu-  not cheaply made</td>\n",
       "      <td>1297468800</td>\n",
       "      <td>02 12, 2011</td>\n",
       "    </tr>\n",
       "    <tr>\n",
       "      <th>1</th>\n",
       "      <td>A2G5TCU2WDFZ65</td>\n",
       "      <td>0000031887</td>\n",
       "      <td>Amazon Customer</td>\n",
       "      <td>[0, 0]</td>\n",
       "      <td>I bought this for my 4 yr old daughter for dan...</td>\n",
       "      <td>5.0</td>\n",
       "      <td>Very Cute!!</td>\n",
       "      <td>1358553600</td>\n",
       "      <td>01 19, 2013</td>\n",
       "    </tr>\n",
       "    <tr>\n",
       "      <th>2</th>\n",
       "      <td>A1RLQXYNCMWRWN</td>\n",
       "      <td>0000031887</td>\n",
       "      <td>Carola</td>\n",
       "      <td>[0, 0]</td>\n",
       "      <td>What can I say... my daughters have it in oran...</td>\n",
       "      <td>5.0</td>\n",
       "      <td>I have buy more than one</td>\n",
       "      <td>1357257600</td>\n",
       "      <td>01 4, 2013</td>\n",
       "    </tr>\n",
       "  </tbody>\n",
       "</table>\n",
       "</div>"
      ],
      "text/plain": [
       "       reviewerID        asin                 reviewerName helpful  \\\n",
       "0  A1KLRMWW2FWPL4  0000031887  Amazon Customer \"cameramom\"  [0, 0]   \n",
       "1  A2G5TCU2WDFZ65  0000031887              Amazon Customer  [0, 0]   \n",
       "2  A1RLQXYNCMWRWN  0000031887                       Carola  [0, 0]   \n",
       "\n",
       "                                          reviewText  overall  \\\n",
       "0  This is a great tutu and at a really great pri...      5.0   \n",
       "1  I bought this for my 4 yr old daughter for dan...      5.0   \n",
       "2  What can I say... my daughters have it in oran...      5.0   \n",
       "\n",
       "                         summary  unixReviewTime   reviewTime  \n",
       "0  Great tutu-  not cheaply made      1297468800  02 12, 2011  \n",
       "1                    Very Cute!!      1358553600  01 19, 2013  \n",
       "2       I have buy more than one      1357257600   01 4, 2013  "
      ]
     },
     "execution_count": 3,
     "metadata": {},
     "output_type": "execute_result"
    }
   ],
   "source": [
    "import os\n",
    "import sys\n",
    "import pandas as pd\n",
    "import gzip\n",
    "import numpy as np\n",
    "\n",
    "def parse(path):\n",
    "    g = gzip.open(path, 'rb')\n",
    "    for l in g:\n",
    "        yield eval(l)\n",
    "\n",
    "def getDF(path):\n",
    "    i = 0\n",
    "    df = {}\n",
    "    for d in parse(path):\n",
    "        df[i] = d\n",
    "        i += 1\n",
    "    return pd.DataFrame.from_dict(df, orient='index')\n",
    "\n",
    "df = getDF(path+'reviews_Clothing_Shoes_and_Jewelry_5.json.gz')\n",
    "\n",
    "df.head(3)"
   ]
  },
  {
   "cell_type": "code",
   "execution_count": 5,
   "metadata": {
    "colab": {
     "base_uri": "https://localhost:8080/",
     "height": 34
    },
    "colab_type": "code",
    "executionInfo": {
     "elapsed": 973,
     "status": "ok",
     "timestamp": 1554412085301,
     "user": {
      "displayName": "이광한",
      "photoUrl": "",
      "userId": "10881999082486233990"
     },
     "user_tz": -540
    },
    "id": "vZzXPdsILS0H",
    "outputId": "a04bbd6a-f32b-452e-d3af-9fbfd4408d91"
   },
   "outputs": [
    {
     "name": "stdout",
     "output_type": "stream",
     "text": [
      "39387Users 23033Items\n"
     ]
    }
   ],
   "source": [
    "usernum = df.reviewerID.nunique()\n",
    "itemnum = df.asin.nunique()\n",
    "print('%sUsers %sItems'%(usernum, itemnum))"
   ]
  },
  {
   "cell_type": "markdown",
   "metadata": {
    "colab_type": "text",
    "id": "7lx8iLWOs0Ve"
   },
   "source": [
    "# Raw_Id to Inner_Id(reviewerID, asin)"
   ]
  },
  {
   "cell_type": "code",
   "execution_count": null,
   "metadata": {
    "colab": {
     "base_uri": "https://localhost:8080/",
     "height": 173
    },
    "colab_type": "code",
    "executionInfo": {
     "elapsed": 806,
     "status": "ok",
     "timestamp": 1554438228698,
     "user": {
      "displayName": "이광한",
      "photoUrl": "",
      "userId": "10881999082486233990"
     },
     "user_tz": -540
    },
    "id": "5Aq0EOLtruIa",
    "outputId": "ec2d94db-bb33-4208-b602-483aceaa1335"
   },
   "outputs": [
    {
     "data": {
      "text/html": [
       "<div>\n",
       "<style scoped>\n",
       "    .dataframe tbody tr th:only-of-type {\n",
       "        vertical-align: middle;\n",
       "    }\n",
       "\n",
       "    .dataframe tbody tr th {\n",
       "        vertical-align: top;\n",
       "    }\n",
       "\n",
       "    .dataframe thead th {\n",
       "        text-align: right;\n",
       "    }\n",
       "</style>\n",
       "<table border=\"1\" class=\"dataframe\">\n",
       "  <thead>\n",
       "    <tr style=\"text-align: right;\">\n",
       "      <th></th>\n",
       "      <th>reviewerID</th>\n",
       "      <th>asin</th>\n",
       "      <th>reviewerName</th>\n",
       "      <th>helpful</th>\n",
       "      <th>reviewText</th>\n",
       "      <th>overall</th>\n",
       "      <th>summary</th>\n",
       "      <th>unixReviewTime</th>\n",
       "      <th>reviewTime</th>\n",
       "    </tr>\n",
       "  </thead>\n",
       "  <tbody>\n",
       "    <tr>\n",
       "      <th>0</th>\n",
       "      <td>0</td>\n",
       "      <td>0</td>\n",
       "      <td>Amazon Customer \"cameramom\"</td>\n",
       "      <td>[0, 0]</td>\n",
       "      <td>This is a great tutu and at a really great pri...</td>\n",
       "      <td>5.0</td>\n",
       "      <td>Great tutu-  not cheaply made</td>\n",
       "      <td>1297468800</td>\n",
       "      <td>02 12, 2011</td>\n",
       "    </tr>\n",
       "    <tr>\n",
       "      <th>1</th>\n",
       "      <td>1</td>\n",
       "      <td>0</td>\n",
       "      <td>Amazon Customer</td>\n",
       "      <td>[0, 0]</td>\n",
       "      <td>I bought this for my 4 yr old daughter for dan...</td>\n",
       "      <td>5.0</td>\n",
       "      <td>Very Cute!!</td>\n",
       "      <td>1358553600</td>\n",
       "      <td>01 19, 2013</td>\n",
       "    </tr>\n",
       "    <tr>\n",
       "      <th>2</th>\n",
       "      <td>2</td>\n",
       "      <td>0</td>\n",
       "      <td>Carola</td>\n",
       "      <td>[0, 0]</td>\n",
       "      <td>What can I say... my daughters have it in oran...</td>\n",
       "      <td>5.0</td>\n",
       "      <td>I have buy more than one</td>\n",
       "      <td>1357257600</td>\n",
       "      <td>01 4, 2013</td>\n",
       "    </tr>\n",
       "    <tr>\n",
       "      <th>3</th>\n",
       "      <td>3</td>\n",
       "      <td>0</td>\n",
       "      <td>Caromcg</td>\n",
       "      <td>[0, 0]</td>\n",
       "      <td>We bought several tutus at once, and they are ...</td>\n",
       "      <td>5.0</td>\n",
       "      <td>Adorable, Sturdy</td>\n",
       "      <td>1398556800</td>\n",
       "      <td>04 27, 2014</td>\n",
       "    </tr>\n",
       "  </tbody>\n",
       "</table>\n",
       "</div>"
      ],
      "text/plain": [
       "  reviewerID asin                 reviewerName helpful  \\\n",
       "0          0    0  Amazon Customer \"cameramom\"  [0, 0]   \n",
       "1          1    0              Amazon Customer  [0, 0]   \n",
       "2          2    0                       Carola  [0, 0]   \n",
       "3          3    0                      Caromcg  [0, 0]   \n",
       "\n",
       "                                          reviewText  overall  \\\n",
       "0  This is a great tutu and at a really great pri...      5.0   \n",
       "1  I bought this for my 4 yr old daughter for dan...      5.0   \n",
       "2  What can I say... my daughters have it in oran...      5.0   \n",
       "3  We bought several tutus at once, and they are ...      5.0   \n",
       "\n",
       "                         summary  unixReviewTime   reviewTime  \n",
       "0  Great tutu-  not cheaply made      1297468800  02 12, 2011  \n",
       "1                    Very Cute!!      1358553600  01 19, 2013  \n",
       "2       I have buy more than one      1357257600   01 4, 2013  \n",
       "3               Adorable, Sturdy      1398556800  04 27, 2014  "
      ]
     },
     "execution_count": 8,
     "metadata": {
      "tags": []
     },
     "output_type": "execute_result"
    }
   ],
   "source": [
    "# dict 만들기\n",
    "reviewerID_dict , asin_dict = {},{}\n",
    "\n",
    "for n,i in enumerate(df.reviewerID.unique()):\n",
    "    reviewerID_dict[i] = str(n)\n",
    "\n",
    "for n,i in enumerate(df.asin.unique()):\n",
    "    asin_dict[i] = str(n)\n",
    "    \n",
    "# one-hot\n",
    "df.reviewerID = df.reviewerID.apply(lambda x: reviewerID_dict[x])\n",
    "df.asin=df.asin.apply(lambda x : asin_dict[x])\n",
    "\n",
    "df.head(4)"
   ]
  },
  {
   "cell_type": "code",
   "execution_count": null,
   "metadata": {
    "colab": {
     "base_uri": "https://localhost:8080/",
     "height": 142
    },
    "colab_type": "code",
    "executionInfo": {
     "elapsed": 744,
     "status": "ok",
     "timestamp": 1554404309294,
     "user": {
      "displayName": "이광한",
      "photoUrl": "",
      "userId": "10881999082486233990"
     },
     "user_tz": -540
    },
    "id": "W7aovToStTBb",
    "outputId": "9fed4da8-4c26-4e07-ccc3-b209de520728"
   },
   "outputs": [
    {
     "data": {
      "text/html": [
       "<div>\n",
       "<style scoped>\n",
       "    .dataframe tbody tr th:only-of-type {\n",
       "        vertical-align: middle;\n",
       "    }\n",
       "\n",
       "    .dataframe tbody tr th {\n",
       "        vertical-align: top;\n",
       "    }\n",
       "\n",
       "    .dataframe thead th {\n",
       "        text-align: right;\n",
       "    }\n",
       "</style>\n",
       "<table border=\"1\" class=\"dataframe\">\n",
       "  <thead>\n",
       "    <tr style=\"text-align: right;\">\n",
       "      <th></th>\n",
       "      <th>reviewerID</th>\n",
       "      <th>asin</th>\n",
       "      <th>overall</th>\n",
       "      <th>unixReviewTime</th>\n",
       "    </tr>\n",
       "  </thead>\n",
       "  <tbody>\n",
       "    <tr>\n",
       "      <th>0</th>\n",
       "      <td>0</td>\n",
       "      <td>0</td>\n",
       "      <td>5.0</td>\n",
       "      <td>1297468800</td>\n",
       "    </tr>\n",
       "    <tr>\n",
       "      <th>1</th>\n",
       "      <td>1</td>\n",
       "      <td>0</td>\n",
       "      <td>5.0</td>\n",
       "      <td>1358553600</td>\n",
       "    </tr>\n",
       "    <tr>\n",
       "      <th>2</th>\n",
       "      <td>2</td>\n",
       "      <td>0</td>\n",
       "      <td>5.0</td>\n",
       "      <td>1357257600</td>\n",
       "    </tr>\n",
       "  </tbody>\n",
       "</table>\n",
       "</div>"
      ],
      "text/plain": [
       "  reviewerID asin  overall  unixReviewTime\n",
       "0          0    0      5.0      1297468800\n",
       "1          1    0      5.0      1358553600\n",
       "2          2    0      5.0      1357257600"
      ]
     },
     "execution_count": 8,
     "metadata": {
      "tags": []
     },
     "output_type": "execute_result"
    }
   ],
   "source": [
    "df1=df[['reviewerID','asin','overall','unixReviewTime']]\n",
    "df1.head(3)"
   ]
  },
  {
   "cell_type": "markdown",
   "metadata": {
    "colab_type": "text",
    "id": "vxDDknSYtfYO"
   },
   "source": [
    "# Create implicit dataset"
   ]
  },
  {
   "cell_type": "markdown",
   "metadata": {
    "colab_type": "text",
    "id": "ee_zubhrvWoD"
   },
   "source": [
    "#### Split train, validation, test set\n",
    "- Most recent history --> test\n",
    "- next most --> val\n",
    "- else --> train\n"
   ]
  },
  {
   "cell_type": "code",
   "execution_count": null,
   "metadata": {
    "colab": {},
    "colab_type": "code",
    "id": "DvGCuDe4vCju"
   },
   "outputs": [],
   "source": [
    "train_dict, val_dict, test_dict = {},{},{}\n",
    "\n",
    "for i in range(len(df1.reviewerID.unique())):\n",
    "    test_dict[str(i)] = df1[df1.reviewerID.isin([str(i)])].sort_values(['unixReviewTime']).values[-1][1]#test\n",
    "    val_dict[str(i)] = df1[df1.reviewerID.isin([str(i)])].sort_values(['unixReviewTime']).values[-2][1]#val\n",
    "    train_dict[str(i)] = df1[df1.reviewerID.isin([str(i)])].sort_values(['unixReviewTime'])['asin'].values[:-2].tolist()#train"
   ]
  },
  {
   "cell_type": "code",
   "execution_count": null,
   "metadata": {
    "colab": {},
    "colab_type": "code",
    "id": "xOlj1nDbu96P"
   },
   "outputs": [],
   "source": [
    "# print(test_dict)\n",
    "\"\"\"\n",
    "{'0': '1430','1': '19973',\n",
    " '2': '17307',\n",
    " '3': '6114',\n",
    " '4': '20713',\n",
    " '5': '22824',\n",
    " '6': '5434',\n",
    " '7': '2340',\n",
    " '8': '19467',\n",
    " '9': '4428',\n",
    " '10': '20594',\n",
    " '11': '14869',\n",
    " '12': '9325',\n",
    " '13': '9144',\n",
    " '14': '21224',\n",
    " '15': '22885',\n",
    " '16': '17786',\n",
    " '17': '22665',\n",
    " '18': '8731',\n",
    " '19': '14952',\n",
    "  ....\n",
    "  }\n",
    "\n",
    "\"\"\"\n",
    "\"\"\"\n",
    "#print(train_dict)\n",
    "\n",
    "{'0': ['0', '8557', '8094', '17184', '18246'],\n",
    " '1': ['2786', '0', '2791', '12429', '19284', '19698', '6974', '3875'],\n",
    " '2': ['9645','10311','721','9355','9696','0','20','4402','7974','2042'],\n",
    " '3': ['9131', '0', '395', '3997', '7424', '10292', '14194'],\n",
    " '4': ['465', '0', '5822'],\n",
    " '5': ['10769', '15418', '22856', '22053', '22122', '0', '1970'],\n",
    " '6': ['4238', '7012', '2495', '17488', '6056'],\n",
    " '7': ['0', '5005', '11262'],\n",
    " '8': ['42', '2327', '0'],\n",
    " '9': ['11980', '1497', '8773', '0'],\n",
    " '10': ['3091', '3239', '0', '3536', '8079', '15647', '8348'],\n",
    " '11': ['0', '2201', '7933'],\n",
    " '12': ['0', '9054', '11839', '12516'],\n",
    " '13': ['10929','11826','154','10535','0','4776','4858','8977','2889','7250','17032','19189']\n",
    "  .....\n",
    "  }\n",
    "  \n",
    "\"\"\""
   ]
  },
  {
   "cell_type": "markdown",
   "metadata": {
    "colab_type": "text",
    "id": "Lzopxino5yNk"
   },
   "source": [
    "## Save to json"
   ]
  },
  {
   "cell_type": "code",
   "execution_count": null,
   "metadata": {
    "colab": {
     "base_uri": "https://localhost:8080/",
     "height": 187
    },
    "colab_type": "code",
    "executionInfo": {
     "elapsed": 5798,
     "status": "ok",
     "timestamp": 1554407768840,
     "user": {
      "displayName": "이광한",
      "photoUrl": "",
      "userId": "10881999082486233990"
     },
     "user_tz": -540
    },
    "id": "jxBuLnKXwIIQ",
    "outputId": "c805e6bd-fd23-48b2-ede2-cea8918ae111"
   },
   "outputs": [
    {
     "name": "stderr",
     "output_type": "stream",
     "text": [
      "IOPub data rate exceeded.\n",
      "The notebook server will temporarily stop sending output\n",
      "to the client in order to avoid crashing it.\n",
      "To change this limit, set the config variable\n",
      "`--NotebookApp.iopub_data_rate_limit`.\n",
      "\n",
      "Current values:\n",
      "NotebookApp.iopub_data_rate_limit=1000000.0 (bytes/sec)\n",
      "NotebookApp.rate_limit_window=3.0 (secs)\n",
      "\n"
     ]
    }
   ],
   "source": [
    "import json\n",
    "from collections import OrderedDict\n",
    "\n",
    "data=OrderedDict()\n",
    "\n",
    "data['train'] = train_dict\n",
    "data['val'] = val_dict\n",
    "data['test'] = test_dict\n",
    "\n",
    "user_dict, product_dict= {},{} # for user inner id to raw id\n",
    "for k,v in reviewerID_dict.items():\n",
    "    user_dict[v]=k\n",
    "for k,v in asin_dict.items():\n",
    "    product_dict[v]=k\n",
    "    \n",
    "data['user_dict'] = user_dict\n",
    "data['product_dict'] = product_dict\n",
    "\n",
    "# Print JSON\n",
    "#print(json.dumps(data, ensure_ascii=False, indent=\"\\t\") )\n",
    "\n",
    "with open(path+'/amazon_clothing_implicit.json', 'w', encoding=\"utf-8-sig\") as make_file:\n",
    "    json.dump(data, make_file, ensure_ascii=False, indent=\"\\t\")"
   ]
  },
  {
   "cell_type": "markdown",
   "metadata": {
    "colab_type": "text",
    "id": "v5hntq3UE1YW"
   },
   "source": [
    "## Data preprocessing for Top-n model\n",
    "- reference : Neural Collaborative Filtering(2017), Xiangnan He"
   ]
  },
  {
   "cell_type": "code",
   "execution_count": null,
   "metadata": {
    "colab": {
     "base_uri": "https://localhost:8080/",
     "height": 34
    },
    "colab_type": "code",
    "executionInfo": {
     "elapsed": 778,
     "status": "ok",
     "timestamp": 1554410301220,
     "user": {
      "displayName": "이광한",
      "photoUrl": "",
      "userId": "10881999082486233990"
     },
     "user_tz": -540
    },
    "id": "zEm316zK4e_f",
    "outputId": "00fac09d-6cc5-4a1f-e1f5-59982e19e0de"
   },
   "outputs": [
    {
     "data": {
      "text/plain": [
       "dict_keys(['train', 'val', 'test', 'user_dict', 'product_dict'])"
      ]
     },
     "execution_count": 31,
     "metadata": {
      "tags": []
     },
     "output_type": "execute_result"
    }
   ],
   "source": [
    "# read json\n",
    "dataset = open(path+'/amazon_clothing_explicit.json',encoding='utf-8-sig').read()\n",
    "js=json.loads(dataset)\n",
    "js.keys()"
   ]
  },
  {
   "cell_type": "code",
   "execution_count": null,
   "metadata": {
    "colab": {},
    "colab_type": "code",
    "id": "VrIiqwmrCfxY"
   },
   "outputs": [],
   "source": [
    "valNegatives,valRatings,testNegatives,testRatings=[],[],[],[]\n",
    "\n",
    "# test,val Ratings 뽑기\n",
    "for u,i in js['val'].items():\n",
    "    valRatings.append([int(u),int(i)])\n",
    "for u,i in js['test'].items():\n",
    "    testRatings.append([int(u),int(i)])\n",
    "\n",
    "# test,val Negatives 뽑기 (testNegative에 기존에 구매한것도 포함해야할까?). 난 그냥 테스트에만 포함되지 않게 만들었다.. 기존구매내역도 negative에 포함\n",
    "\n",
    "for i in range(len(js['user_dict'])):\n",
    "    val=[]\n",
    "    for n in range(99):\n",
    "        j=np.random.randint(len(js['product_dict']))\n",
    "        while j in valRatings[i]: # valratings에 있으면 다시 뽑기\n",
    "            j=np.random.randint(len(js['product_dict']))\n",
    "        val.append(j)\n",
    "    valNegatives.append(val)\n",
    "\n",
    "for i in range(len(js['user_dict'])):\n",
    "    test=[]\n",
    "    for n in range(99):\n",
    "        j=np.random.randint(len(js['product_dict']))\n",
    "        while j in testRatings[i]: # testratings에 있으면 다시 뽑기\n",
    "            j=np.random.randint(len(js['product_dict']))\n",
    "        test.append(j\n",
    "    testNegatives.append(test)\n",
    "    \n"
   ]
  },
  {
   "cell_type": "code",
   "execution_count": null,
   "metadata": {
    "colab": {},
    "colab_type": "code",
    "id": "8lPzMszuCfuf"
   },
   "outputs": [],
   "source": [
    "# val의 user np.full 해서, item은 sum_Ratings에 해당(Negatives와 Ratings를 합한 100개의 아이템 리스트)\n",
    "\n",
    "val_full_user, test_full_user =  [],[]\n",
    "for i in range(usernum):\n",
    "    val_full_user.extend(np.full(100,i,dtype='int32').tolist())\n",
    "for i in range(usernum):\n",
    "    test_full_user.extend(np.full(100,i,dtype='int32').tolist())\n",
    "\n",
    "# 이부분은 val에 해당 [[item....100개], [],,,,[]]    \n",
    "sum_Ratings =[]\n",
    "for n,i in enumerate(valRatings):\n",
    "    sum_Ratings.append([i[1]]+valNegatives[n])\n",
    "    #sum_Ratings.extend(i[1].extend\n",
    "    \n",
    "# 이부분은 test에 해당 [[item....100개], [],,,,[]]\n",
    "sum_Ratings1 = []\n",
    "for n,i in enumerate(testRatings):\n",
    "    sum_Ratings1.append([i[1]]+testNegatives[n])\n",
    "\n",
    "    \n",
    "# sum_ratings들을 계산을 편하게 해주기위해 sum_Ratings들의 괄호들을 풀어줘서 1d array로 만들어주기 [1,1,1,1,1,1,...] 이런식으로\n",
    "from itertools import chain\n",
    "\n",
    "val_sum_Ratings, test_sum_Ratings=[],[]\n",
    "val_sum_Ratings=list(chain.from_iterable(sum_Ratings))\n",
    "test_sum_Ratings=list(chain.from_iterable(sum_Ratings1))\n",
    "\n",
    "\n"
   ]
  },
  {
   "cell_type": "code",
   "execution_count": null,
   "metadata": {
    "colab": {
     "base_uri": "https://localhost:8080/",
     "height": 187
    },
    "colab_type": "code",
    "executionInfo": {
     "elapsed": 115795,
     "status": "ok",
     "timestamp": 1554412210480,
     "user": {
      "displayName": "이광한",
      "photoUrl": "",
      "userId": "10881999082486233990"
     },
     "user_tz": -540
    },
    "id": "-x1SZyNwCfsQ",
    "outputId": "185e7062-66b4-43d4-9661-5cee1143a37f"
   },
   "outputs": [
    {
     "name": "stderr",
     "output_type": "stream",
     "text": [
      "IOPub data rate exceeded.\n",
      "The notebook server will temporarily stop sending output\n",
      "to the client in order to avoid crashing it.\n",
      "To change this limit, set the config variable\n",
      "`--NotebookApp.iopub_data_rate_limit`.\n",
      "\n",
      "Current values:\n",
      "NotebookApp.iopub_data_rate_limit=1000000.0 (bytes/sec)\n",
      "NotebookApp.rate_limit_window=3.0 (secs)\n",
      "\n"
     ]
    }
   ],
   "source": [
    "\"\"\"\n",
    "\n",
    "저장\n",
    "\n",
    "\"\"\"\n",
    "\n",
    "from collections import OrderedDict\n",
    "\n",
    "data=OrderedDict()\n",
    "\n",
    "data['train'] = js['train']\n",
    "data['valNegatives']=valNegatives\n",
    "data['valRatings'] = valRatings\n",
    "data['testNegatives'] = testNegatives\n",
    "data['testRatings'] = testRatings\n",
    "\n",
    "# for fast computaion \n",
    "data['val_full_user'] = val_full_user\n",
    "data['test_full_user'] = test_full_user\n",
    "data['val_sum_Ratings'] = sum_Ratings\n",
    "data['test_sum_Ratings'] = sum_Ratings1 \n",
    "data['flatten_val_sum_Ratings'] = val_sum_Ratings # 계산위해 flatten 시킨거\n",
    "data['flatten_test_sum_Ratings'] = test_sum_Ratings\n",
    "\n",
    "data['usernum'] = usernum\n",
    "data['itemnum'] = itemnum\n",
    "\n",
    "# Print JSON\n",
    "print(json.dumps(data, ensure_ascii=False, indent=\"\\t\") )\n",
    "\n",
    "with open(path+'/amazon_clothing_fast_implicit.json', 'w', encoding=\"utf-8-sig\") as make_file:\n",
    "    json.dump(data, make_file, ensure_ascii=False, indent=\"\\t\")"
   ]
  },
  {
   "cell_type": "markdown",
   "metadata": {
    "colab_type": "text",
    "id": "A98Zv4b6txtN"
   },
   "source": [
    "# Create explicit dataset"
   ]
  },
  {
   "cell_type": "code",
   "execution_count": null,
   "metadata": {
    "colab": {},
    "colab_type": "code",
    "id": "vB5xX-5IZmt4"
   },
   "outputs": [],
   "source": [
    "import os\n",
    "import sys\n",
    "import pandas as pd\n",
    "import gzip\n",
    "import numpy as np\n",
    "\n",
    "def parse(path):\n",
    "    g = gzip.open(path, 'rb')\n",
    "    for l in g:\n",
    "        yield eval(l)\n",
    "\n",
    "def getDF(path):\n",
    "    i = 0\n",
    "    df = {}\n",
    "    for d in parse(path):\n",
    "        df[i] = d\n",
    "        i += 1\n",
    "    return pd.DataFrame.from_dict(df, orient='index')\n",
    "\n",
    "df = getDF(path+'/reviews_Clothing_Shoes_and_Jewelry_5.json.gz')\n",
    "\n",
    "df.head(3)"
   ]
  },
  {
   "cell_type": "code",
   "execution_count": null,
   "metadata": {
    "colab": {
     "base_uri": "https://localhost:8080/",
     "height": 173
    },
    "colab_type": "code",
    "executionInfo": {
     "elapsed": 1074,
     "status": "ok",
     "timestamp": 1554438240081,
     "user": {
      "displayName": "이광한",
      "photoUrl": "",
      "userId": "10881999082486233990"
     },
     "user_tz": -540
    },
    "id": "EBD9bmlZK6cV",
    "outputId": "d9c50dd8-3f10-44ac-c59a-0621bc83d255"
   },
   "outputs": [
    {
     "data": {
      "text/html": [
       "<div>\n",
       "<style scoped>\n",
       "    .dataframe tbody tr th:only-of-type {\n",
       "        vertical-align: middle;\n",
       "    }\n",
       "\n",
       "    .dataframe tbody tr th {\n",
       "        vertical-align: top;\n",
       "    }\n",
       "\n",
       "    .dataframe thead th {\n",
       "        text-align: right;\n",
       "    }\n",
       "</style>\n",
       "<table border=\"1\" class=\"dataframe\">\n",
       "  <thead>\n",
       "    <tr style=\"text-align: right;\">\n",
       "      <th></th>\n",
       "      <th>reviewerID</th>\n",
       "      <th>asin</th>\n",
       "      <th>reviewerName</th>\n",
       "      <th>helpful</th>\n",
       "      <th>reviewText</th>\n",
       "      <th>overall</th>\n",
       "      <th>summary</th>\n",
       "      <th>unixReviewTime</th>\n",
       "      <th>reviewTime</th>\n",
       "    </tr>\n",
       "  </thead>\n",
       "  <tbody>\n",
       "    <tr>\n",
       "      <th>0</th>\n",
       "      <td>0</td>\n",
       "      <td>0</td>\n",
       "      <td>Amazon Customer \"cameramom\"</td>\n",
       "      <td>[0, 0]</td>\n",
       "      <td>This is a great tutu and at a really great pri...</td>\n",
       "      <td>5.0</td>\n",
       "      <td>Great tutu-  not cheaply made</td>\n",
       "      <td>1297468800</td>\n",
       "      <td>02 12, 2011</td>\n",
       "    </tr>\n",
       "    <tr>\n",
       "      <th>1</th>\n",
       "      <td>1</td>\n",
       "      <td>0</td>\n",
       "      <td>Amazon Customer</td>\n",
       "      <td>[0, 0]</td>\n",
       "      <td>I bought this for my 4 yr old daughter for dan...</td>\n",
       "      <td>5.0</td>\n",
       "      <td>Very Cute!!</td>\n",
       "      <td>1358553600</td>\n",
       "      <td>01 19, 2013</td>\n",
       "    </tr>\n",
       "    <tr>\n",
       "      <th>2</th>\n",
       "      <td>2</td>\n",
       "      <td>0</td>\n",
       "      <td>Carola</td>\n",
       "      <td>[0, 0]</td>\n",
       "      <td>What can I say... my daughters have it in oran...</td>\n",
       "      <td>5.0</td>\n",
       "      <td>I have buy more than one</td>\n",
       "      <td>1357257600</td>\n",
       "      <td>01 4, 2013</td>\n",
       "    </tr>\n",
       "    <tr>\n",
       "      <th>3</th>\n",
       "      <td>3</td>\n",
       "      <td>0</td>\n",
       "      <td>Caromcg</td>\n",
       "      <td>[0, 0]</td>\n",
       "      <td>We bought several tutus at once, and they are ...</td>\n",
       "      <td>5.0</td>\n",
       "      <td>Adorable, Sturdy</td>\n",
       "      <td>1398556800</td>\n",
       "      <td>04 27, 2014</td>\n",
       "    </tr>\n",
       "  </tbody>\n",
       "</table>\n",
       "</div>"
      ],
      "text/plain": [
       "  reviewerID asin                 reviewerName helpful  \\\n",
       "0          0    0  Amazon Customer \"cameramom\"  [0, 0]   \n",
       "1          1    0              Amazon Customer  [0, 0]   \n",
       "2          2    0                       Carola  [0, 0]   \n",
       "3          3    0                      Caromcg  [0, 0]   \n",
       "\n",
       "                                          reviewText  overall  \\\n",
       "0  This is a great tutu and at a really great pri...      5.0   \n",
       "1  I bought this for my 4 yr old daughter for dan...      5.0   \n",
       "2  What can I say... my daughters have it in oran...      5.0   \n",
       "3  We bought several tutus at once, and they are ...      5.0   \n",
       "\n",
       "                         summary  unixReviewTime   reviewTime  \n",
       "0  Great tutu-  not cheaply made      1297468800  02 12, 2011  \n",
       "1                    Very Cute!!      1358553600  01 19, 2013  \n",
       "2       I have buy more than one      1357257600   01 4, 2013  \n",
       "3               Adorable, Sturdy      1398556800  04 27, 2014  "
      ]
     },
     "execution_count": 9,
     "metadata": {
      "tags": []
     },
     "output_type": "execute_result"
    }
   ],
   "source": [
    "reviewerID_dict , asin_dict = {},{}\n",
    "\n",
    "for n,i in enumerate(df.reviewerID.unique()):\n",
    "    reviewerID_dict[i] = str(n)\n",
    "\n",
    "for n,i in enumerate(df.asin.unique()):\n",
    "    asin_dict[i] = str(n)\n",
    "    \n",
    "# one-hot\n",
    "df.reviewerID = df.reviewerID.apply(lambda x: reviewerID_dict[x])\n",
    "df.asin=df.asin.apply(lambda x : asin_dict[x])\n",
    "\n",
    "df.head(4)"
   ]
  },
  {
   "cell_type": "code",
   "execution_count": null,
   "metadata": {
    "colab": {
     "base_uri": "https://localhost:8080/",
     "height": 34
    },
    "colab_type": "code",
    "executionInfo": {
     "elapsed": 778,
     "status": "ok",
     "timestamp": 1554439798076,
     "user": {
      "displayName": "이광한",
      "photoUrl": "",
      "userId": "10881999082486233990"
     },
     "user_tz": -540
    },
    "id": "qrrvJ-Hf1PQt",
    "outputId": "25e38e65-5e2f-4e81-e192-1cea58efdf42"
   },
   "outputs": [
    {
     "name": "stdout",
     "output_type": "stream",
     "text": [
      "39387 23033\n"
     ]
    }
   ],
   "source": [
    "usernum = df.reviewerID.nunique()\n",
    "itemnum = df.asin.nunique()\n",
    "print('%s Users %s Items'%(usernum, itemnum))"
   ]
  },
  {
   "cell_type": "code",
   "execution_count": null,
   "metadata": {
    "colab": {
     "base_uri": "https://localhost:8080/",
     "height": 136
    },
    "colab_type": "code",
    "executionInfo": {
     "elapsed": 1180,
     "status": "ok",
     "timestamp": 1554441656091,
     "user": {
      "displayName": "이광한",
      "photoUrl": "",
      "userId": "10881999082486233990"
     },
     "user_tz": -540
    },
    "id": "lKNdsK1m0yrb",
    "outputId": "e7ff8445-a124-4d60-b636-1942bbe4ba55"
   },
   "outputs": [
    {
     "data": {
      "text/plain": [
       "array([['0', '0', 5.0, 1297468800],\n",
       "       ['0', '8557', 4.0, 1353542400],\n",
       "       ['0', '8094', 1.0, 1360281600],\n",
       "       ['0', '17184', 5.0, 1360281600],\n",
       "       ['0', '18246', 5.0, 1360281600],\n",
       "       ['0', '6114', 5.0, 1366243200],\n",
       "       ['0', '1430', 5.0, 1368576000]], dtype=object)"
      ]
     },
     "execution_count": 42,
     "metadata": {
      "tags": []
     },
     "output_type": "execute_result"
    }
   ],
   "source": [
    "df1=df[['reviewerID','asin','overall','unixReviewTime']]\n",
    "df1.head(3)\n",
    "#\n",
    "df1[df1.reviewerID.isin(['0'])].sort_values(['unixReviewTime']).values"
   ]
  },
  {
   "cell_type": "code",
   "execution_count": null,
   "metadata": {
    "colab": {},
    "colab_type": "code",
    "id": "jRzWeUrN1nR4"
   },
   "outputs": [],
   "source": [
    "train_list, val_list, test_list =[],[],[]\n",
    "\n",
    "for k in range(usernum):\n",
    "    for i,j,R,_ in df1[df1.reviewerID.isin([str(k)])].sort_values(['unixReviewTime']).values : # train\n",
    "        train_list.append((i,j,R))\n",
    "        test_list.append(train_list.pop(-1))\n",
    "        val_list.append(train_list.pop(-1))\n",
    "  \n",
    "  \n",
    "\"\"\"\n",
    "print(train_list)\n",
    "\n",
    "[(user, item, rating),....(user M, item N, rating)]\n",
    "\n",
    "\n",
    "\"\"\"\n"
   ]
  },
  {
   "cell_type": "code",
   "execution_count": null,
   "metadata": {
    "colab": {
     "base_uri": "https://localhost:8080/",
     "height": 187
    },
    "colab_type": "code",
    "executionInfo": {
     "elapsed": 206328,
     "status": "ok",
     "timestamp": 1554442248904,
     "user": {
      "displayName": "이광한",
      "photoUrl": "",
      "userId": "10881999082486233990"
     },
     "user_tz": -540
    },
    "id": "4ona0nia7khM",
    "outputId": "8396d749-b57f-4a7a-fe57-8ea1829a892a"
   },
   "outputs": [
    {
     "name": "stderr",
     "output_type": "stream",
     "text": [
      "IOPub data rate exceeded.\n",
      "The notebook server will temporarily stop sending output\n",
      "to the client in order to avoid crashing it.\n",
      "To change this limit, set the config variable\n",
      "`--NotebookApp.iopub_data_rate_limit`.\n",
      "\n",
      "Current values:\n",
      "NotebookApp.iopub_data_rate_limit=1000000.0 (bytes/sec)\n",
      "NotebookApp.rate_limit_window=3.0 (secs)\n",
      "\n"
     ]
    }
   ],
   "source": [
    "import json\n",
    "from collections import OrderedDict\n",
    "\n",
    "data=OrderedDict()\n",
    "\n",
    "data['train'] = train_list\n",
    "data['val'] = val_list\n",
    "data['test'] = test_list\n",
    "data['usernum'] = usernum\n",
    "data['itemnum'] = itemnum\n",
    "\n",
    "# Print JSON\n",
    "#print(json.dumps(data, ensure_ascii=False, indent=\"\\t\") )\n",
    "\n",
    "with open(path+'/amazon_clothing_explicit.json', 'w', encoding=\"utf-8-sig\") as make_file:\n",
    "    json.dump(data, make_file, ensure_ascii=False, indent=\"\\t\")"
   ]
  }
 ],
 "metadata": {
  "colab": {
   "collapsed_sections": [
    "1HUU5bbbqjc5",
    "7lx8iLWOs0Ve",
    "vxDDknSYtfYO",
    "A98Zv4b6txtN"
   ],
   "name": "amazon_dataset_split.ipynb",
   "provenance": [],
   "version": "0.3.2"
  },
  "kernelspec": {
   "display_name": "Python 3",
   "language": "python",
   "name": "python3"
  },
  "language_info": {
   "codemirror_mode": {
    "name": "ipython",
    "version": 3
   },
   "file_extension": ".py",
   "mimetype": "text/x-python",
   "name": "python",
   "nbconvert_exporter": "python",
   "pygments_lexer": "ipython3",
   "version": "3.7.3"
  }
 },
 "nbformat": 4,
 "nbformat_minor": 4
}
