{
 "cells": [
  {
   "cell_type": "code",
   "execution_count": 4,
   "metadata": {},
   "outputs": [
    {
     "name": "stderr",
     "output_type": "stream",
     "text": [
      "Using TensorFlow backend.\n"
     ]
    }
   ],
   "source": [
    "import numpy as np\n",
    "import pandas as pd\n",
    "import os,io,sys,glob\n",
    "from time import time\n",
    "from tqdm import tqdm_notebook,trange,tqdm\n",
    "import h5py\n",
    "from collections import Counter\n",
    "from PIL import Image\n",
    "\n",
    "from keras.models import Model\n",
    "from keras.preprocessing import image\n",
    "from keras.applications.resnet50 import ResNet50, preprocess_input"
   ]
  },
  {
   "cell_type": "markdown",
   "metadata": {},
   "source": [
    "# Load Dataset"
   ]
  },
  {
   "cell_type": "code",
   "execution_count": 3,
   "metadata": {},
   "outputs": [
    {
     "name": "stdout",
     "output_type": "stream",
     "text": [
      "data load complete[7.38s]\n"
     ]
    }
   ],
   "source": [
    "t1=time()\n",
    "dataset = np.load('../AmazonFashion6ImgPartitioned.npy',encoding='bytes',allow_pickle=True)\n",
    "train, val, test, meta, usernum, itemnum = dataset\n",
    "print('data load complete[%.2fs]'%(time()-t1))"
   ]
  },
  {
   "cell_type": "markdown",
   "metadata": {},
   "source": [
    "# Save Item Images"
   ]
  },
  {
   "cell_type": "code",
   "execution_count": 7,
   "metadata": {},
   "outputs": [
    {
     "name": "stderr",
     "output_type": "stream",
     "text": [
      "100%|█████████████████████████████████████████████████████████████████████████| 166270/166270 [10:16<00:00, 269.84it/s]\n"
     ]
    }
   ],
   "source": [
    "for idx in trange(len(meta)):\n",
    "    try:\n",
    "        c=io.BytesIO(meta[idx][b'imgs'])\n",
    "        im=Image.open(c)\n",
    "        im.save('../meta_img/%s.jpg'%idx)\n",
    "        \n",
    "    except OSError: # png, but useless\n",
    "        os.remove(('../meta_img/%s.jpg'%idx))"
   ]
  },
  {
   "cell_type": "markdown",
   "metadata": {},
   "source": [
    "# Save 'image features'"
   ]
  },
  {
   "cell_type": "markdown",
   "metadata": {},
   "source": [
    "#### - Extract the 'image features' from the Amazon product image using the 'ReNnet50' model"
   ]
  },
  {
   "cell_type": "code",
   "execution_count": 18,
   "metadata": {},
   "outputs": [],
   "source": [
    "def feature_extractor():\n",
    "    t1=time()\n",
    "    avg_pool_features={}\n",
    "    base_model = ResNet50(weights='imagenet')\n",
    "    model = Model(inputs=base_model.input, outputs=base_model.get_layer('avg_pool').output)\n",
    "    print('model load complete[%0.2fs]'%(time()-t1))\n",
    "    \n",
    "    # generate image batch\n",
    "    path = '../meta_img/*'\n",
    "    file_list = glob.glob(path)\n",
    "    file_list= [i for i in file_list if i.endswith('jpg')]\n",
    "    \n",
    "    for index, img_path in tqdm_notebook(enumerate(file_list)):\n",
    "        meta_index = img_path.split('\\\\')[1].split('.')[0] # meta_index는 이미지파일 번호로 딕셔너리 key용으로 사용\n",
    "        img = image.load_img(img_path, target_size=(224, 224))\n",
    "        x = image.img_to_array(img)\n",
    "        x = np.expand_dims(x, axis=0)\n",
    "        x = preprocess_input(x)\n",
    "        avg_pool_features[meta_index] = model.predict(x)[0]\n",
    "\n",
    "    return avg_pool_features\n",
    "\n",
    "avg_pool_features = feature_extractor()"
   ]
  },
  {
   "cell_type": "code",
   "execution_count": 42,
   "metadata": {},
   "outputs": [
    {
     "data": {
      "application/vnd.jupyter.widget-view+json": {
       "model_id": "25620bf86ff040aeb0e59b09584bc271",
       "version_major": 2,
       "version_minor": 0
      },
      "text/plain": [
       "HBox(children=(IntProgress(value=0, max=166132), HTML(value='')))"
      ]
     },
     "metadata": {},
     "output_type": "display_data"
    }
   ],
   "source": [
    "file = '../amazonfashion6_imgfeature.hdf5'\n",
    "\n",
    "with h5py.File(file, 'w') as f:\n",
    "    f.create_dataset('imgs', (len(meta),2048,), dtype='float32')\n",
    "    img_set=f['imgs']\n",
    "    \n",
    "    for n,i in tqdm_notebook(avg_pool_features.items()):\n",
    "        img_set[int(n)]= i"
   ]
  },
  {
   "cell_type": "markdown",
   "metadata": {},
   "source": [
    "# Convert deepfashion type to keras-yolo3"
   ]
  },
  {
   "cell_type": "code",
   "execution_count": 22,
   "metadata": {},
   "outputs": [
    {
     "data": {
      "text/html": [
       "<div>\n",
       "<style scoped>\n",
       "    .dataframe tbody tr th:only-of-type {\n",
       "        vertical-align: middle;\n",
       "    }\n",
       "\n",
       "    .dataframe tbody tr th {\n",
       "        vertical-align: top;\n",
       "    }\n",
       "\n",
       "    .dataframe thead th {\n",
       "        text-align: right;\n",
       "    }\n",
       "</style>\n",
       "<table border=\"1\" class=\"dataframe\">\n",
       "  <thead>\n",
       "    <tr style=\"text-align: right;\">\n",
       "      <th></th>\n",
       "      <th>path</th>\n",
       "      <th>label</th>\n",
       "      <th>pose</th>\n",
       "      <th>x_1</th>\n",
       "      <th>y_1</th>\n",
       "      <th>x_2</th>\n",
       "      <th>y_2</th>\n",
       "    </tr>\n",
       "  </thead>\n",
       "  <tbody>\n",
       "    <tr>\n",
       "      <th>0</th>\n",
       "      <td>img/WOMEN/Blouses_Shirts/id_00000001/02_1_fron...</td>\n",
       "      <td>1</td>\n",
       "      <td>1</td>\n",
       "      <td>50</td>\n",
       "      <td>49</td>\n",
       "      <td>208</td>\n",
       "      <td>235</td>\n",
       "    </tr>\n",
       "    <tr>\n",
       "      <th>1</th>\n",
       "      <td>img/WOMEN/Blouses_Shirts/id_00000001/02_2_side...</td>\n",
       "      <td>1</td>\n",
       "      <td>2</td>\n",
       "      <td>119</td>\n",
       "      <td>48</td>\n",
       "      <td>136</td>\n",
       "      <td>234</td>\n",
       "    </tr>\n",
       "    <tr>\n",
       "      <th>2</th>\n",
       "      <td>img/WOMEN/Blouses_Shirts/id_00000001/02_3_back...</td>\n",
       "      <td>1</td>\n",
       "      <td>3</td>\n",
       "      <td>50</td>\n",
       "      <td>42</td>\n",
       "      <td>213</td>\n",
       "      <td>240</td>\n",
       "    </tr>\n",
       "  </tbody>\n",
       "</table>\n",
       "</div>"
      ],
      "text/plain": [
       "                                                path  label  pose  x_1  y_1  \\\n",
       "0  img/WOMEN/Blouses_Shirts/id_00000001/02_1_fron...      1     1   50   49   \n",
       "1  img/WOMEN/Blouses_Shirts/id_00000001/02_2_side...      1     2  119   48   \n",
       "2  img/WOMEN/Blouses_Shirts/id_00000001/02_3_back...      1     3   50   42   \n",
       "\n",
       "   x_2  y_2  \n",
       "0  208  235  \n",
       "1  136  234  \n",
       "2  213  240  "
      ]
     },
     "execution_count": 22,
     "metadata": {},
     "output_type": "execute_result"
    }
   ],
   "source": [
    "df=pd.read_csv('../In-shop_Clothes_Retrieval_Benchmark/Anno/list_bbox_inshop.txt',header=None,sep='\\s+',\n",
    "               names=['path','label','pose','x_1','y_1','x_2','y_2'])\n",
    "df.head(3)"
   ]
  },
  {
   "cell_type": "code",
   "execution_count": 39,
   "metadata": {},
   "outputs": [],
   "source": [
    "train=[]\n",
    "for index,f,class_id,pose,x_1,y_1,x_2,y_2 in df.itertuples():\n",
    "    train.append('../In-shop_Clothes_Retrieval_Benchmark/%s %s,%s,%s,%s,%s'%(f,x_1,y_1,x_2,y_2,int(class_id)+79))\n",
    "\n",
    "# Save train.txt\n",
    "f = open(\"../train.txt\", 'w')\n",
    "for i in train:\n",
    "    data = i+'\\n'\n",
    "    f.write(data)\n",
    "f.close()"
   ]
  }
 ],
 "metadata": {
  "kernelspec": {
   "display_name": "Python 3",
   "language": "python",
   "name": "python3"
  },
  "language_info": {
   "codemirror_mode": {
    "name": "ipython",
    "version": 3
   },
   "file_extension": ".py",
   "mimetype": "text/x-python",
   "name": "python",
   "nbconvert_exporter": "python",
   "pygments_lexer": "ipython3",
   "version": "3.7.3"
  },
  "toc": {
   "base_numbering": 1,
   "nav_menu": {
    "height": "22px",
    "width": "228px"
   },
   "number_sections": true,
   "sideBar": true,
   "skip_h1_title": false,
   "title_cell": "Table of Contents",
   "title_sidebar": "Contents",
   "toc_cell": false,
   "toc_position": {},
   "toc_section_display": true,
   "toc_window_display": false
  },
  "varInspector": {
   "cols": {
    "lenName": 16,
    "lenType": 16,
    "lenVar": 40
   },
   "kernels_config": {
    "python": {
     "delete_cmd_postfix": "",
     "delete_cmd_prefix": "del ",
     "library": "var_list.py",
     "varRefreshCmd": "print(var_dic_list())"
    },
    "r": {
     "delete_cmd_postfix": ") ",
     "delete_cmd_prefix": "rm(",
     "library": "var_list.r",
     "varRefreshCmd": "cat(var_dic_list()) "
    }
   },
   "types_to_exclude": [
    "module",
    "function",
    "builtin_function_or_method",
    "instance",
    "_Feature"
   ],
   "window_display": false
  }
 },
 "nbformat": 4,
 "nbformat_minor": 4
}
